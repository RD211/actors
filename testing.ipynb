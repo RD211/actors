{
 "cells": [
  {
   "cell_type": "code",
   "execution_count": 1,
   "id": "02f45d1b",
   "metadata": {},
   "outputs": [
    {
     "name": "stderr",
     "output_type": "stream",
     "text": [
      "/home/rd/miniconda3/envs/dsenv/lib/python3.10/site-packages/tqdm/auto.py:21: TqdmWarning: IProgress not found. Please update jupyter and ipywidgets. See https://ipywidgets.readthedocs.io/en/stable/user_install.html\n",
      "  from .autonotebook import tqdm as notebook_tqdm\n"
     ]
    }
   ],
   "source": [
    "from transformers import AutoTokenizer, AutoModelForCausalLM"
   ]
  },
  {
   "cell_type": "code",
   "execution_count": 4,
   "id": "19c80a80",
   "metadata": {},
   "outputs": [],
   "source": [
    "strings_to_tokenize = [\n",
    "    \"Hello, world!\",\n",
    "    \"This is a test string.\",\n",
    "    \"Transformers are amazing for NLP tasks.\",\n",
    "    \"Let's see how many tokens these strings take.\",\n",
    "]\n",
    "# Load the tokenizer and model\n",
    "tokenizer = AutoTokenizer.from_pretrained(\"Qwen/Qwen2.5-0.5B-Instruct\")\n",
    "model = AutoModelForCausalLM.from_pretrained(\"Qwen/Qwen2.5-0.5B-Instruct\")"
   ]
  },
  {
   "cell_type": "code",
   "execution_count": 7,
   "id": "a0697024",
   "metadata": {},
   "outputs": [],
   "source": [
    "ids = [\n",
    "    tokenizer.encode(string) for string in strings_to_tokenize\n",
    "]"
   ]
  },
  {
   "cell_type": "code",
   "execution_count": null,
   "id": "f1dfcbad",
   "metadata": {},
   "outputs": [
    {
     "data": {
      "text/plain": [
       "[[9707, 11, 1879, 0],\n",
       " [1986, 374, 264, 1273, 914, 13],\n",
       " [8963, 388, 525, 7897, 369, 451, 12567, 9079, 13],\n",
       " [10061, 594, 1490, 1246, 1657, 11211, 1493, 9069, 1896, 13]]"
      ]
     },
     "execution_count": 8,
     "metadata": {},
     "output_type": "execute_result"
    }
   ],
   "source": []
  },
  {
   "cell_type": "code",
   "execution_count": 10,
   "id": "e539e592",
   "metadata": {},
   "outputs": [],
   "source": [
    "padded = tokenizer.pad({\"input_ids\": ids}, padding=\"longest\", return_tensors=\"pt\")"
   ]
  },
  {
   "cell_type": "code",
   "execution_count": 13,
   "id": "51b115fa",
   "metadata": {},
   "outputs": [
    {
     "data": {
      "text/plain": [
       "{'input_ids': tensor([[  9707,     11,   1879,      0, 151643, 151643, 151643, 151643, 151643,\n",
       "         151643],\n",
       "        [  1986,    374,    264,   1273,    914,     13, 151643, 151643, 151643,\n",
       "         151643],\n",
       "        [  8963,    388,    525,   7897,    369,    451,  12567,   9079,     13,\n",
       "         151643],\n",
       "        [ 10061,    594,   1490,   1246,   1657,  11211,   1493,   9069,   1896,\n",
       "             13]]), 'attention_mask': tensor([[1, 1, 1, 1, 0, 0, 0, 0, 0, 0],\n",
       "        [1, 1, 1, 1, 1, 1, 0, 0, 0, 0],\n",
       "        [1, 1, 1, 1, 1, 1, 1, 1, 1, 0],\n",
       "        [1, 1, 1, 1, 1, 1, 1, 1, 1, 1]])}"
      ]
     },
     "execution_count": 13,
     "metadata": {},
     "output_type": "execute_result"
    }
   ],
   "source": [
    "padded"
   ]
  },
  {
   "cell_type": "code",
   "execution_count": 11,
   "id": "1ac4cb07",
   "metadata": {},
   "outputs": [],
   "source": [
    "import torch\n",
    "input_ids = padded[\"input_ids\"]\n",
    "attn_mask = padded[\"attention_mask\"]\n",
    "with torch.no_grad():\n",
    "    logits = model(input_ids=input_ids, attention_mask=attn_mask).logits\n"
   ]
  },
  {
   "cell_type": "code",
   "execution_count": 16,
   "id": "2c3fede8",
   "metadata": {},
   "outputs": [
    {
     "data": {
      "text/plain": [
       "torch.Size([4, 10])"
      ]
     },
     "execution_count": 16,
     "metadata": {},
     "output_type": "execute_result"
    }
   ],
   "source": [
    "input_ids.shape"
   ]
  },
  {
   "cell_type": "code",
   "execution_count": 18,
   "id": "b35b81c4",
   "metadata": {},
   "outputs": [
    {
     "data": {
      "text/plain": [
       "tensor([[[ 7.2801,  5.6999,  0.6545,  ..., -3.7292, -3.7295, -3.7291],\n",
       "         [ 8.3219, -1.3552,  0.0493,  ..., -2.5598, -2.5601, -2.5597],\n",
       "         [18.1119,  8.2721,  7.2261,  ..., -0.6242, -0.6245, -0.6243],\n",
       "         ...,\n",
       "         [ 9.9240, 10.3055, 17.2309,  ..., -2.0765, -2.0767, -2.0766],\n",
       "         [ 9.8248,  9.7491, 15.4928,  ..., -1.9129, -1.9130, -1.9129],\n",
       "         [ 9.4980, 10.3333, 15.4334,  ..., -1.7121, -1.7124, -1.7121]],\n",
       "\n",
       "        [[ 4.9903,  3.1928,  1.8066,  ..., -2.5430, -2.5436, -2.5429],\n",
       "         [ 5.0394,  1.7928,  0.1334,  ..., -2.1265, -2.1262, -2.1263],\n",
       "         [ 7.6685,  4.6036,  1.2015,  ..., -1.7160, -1.7166, -1.7159],\n",
       "         ...,\n",
       "         [11.1904, 13.1078, 13.6556,  ..., -0.8852, -0.8855, -0.8852],\n",
       "         [ 9.6250, 10.4838, 11.2969,  ..., -1.2635, -1.2636, -1.2636],\n",
       "         [ 9.0981,  9.5217, 11.5075,  ..., -2.3557, -2.3558, -2.3558]],\n",
       "\n",
       "        [[ 3.6877,  5.9022,  1.8271,  ..., -2.1206, -2.1204, -2.1206],\n",
       "         [ 8.4649,  9.3085,  6.2698,  ..., -0.1308, -0.1304, -0.1308],\n",
       "         [ 6.8822,  6.7573,  2.9191,  ..., -1.6923, -1.6924, -1.6924],\n",
       "         ...,\n",
       "         [18.4735, 10.2402,  8.1523,  ..., -0.6512, -0.6512, -0.6511],\n",
       "         [ 4.0659, -3.4360,  0.9533,  ..., -2.4466, -2.4462, -2.4466],\n",
       "         [10.5853, 12.3879, 15.3190,  ..., -1.9644, -1.9646, -1.9644]],\n",
       "\n",
       "        [[ 4.6993,  5.0266,  1.8388,  ..., -3.1906, -3.1907, -3.1905],\n",
       "         [ 8.4289,  6.7880,  4.4308,  ..., -3.6972, -3.6972, -3.6972],\n",
       "         [11.3841,  6.5874,  5.6320,  ..., -1.2148, -1.2147, -1.2148],\n",
       "         ...,\n",
       "         [ 8.6353, 10.1119,  6.2881,  ..., -1.4297, -1.4293, -1.4296],\n",
       "         [15.6723, 10.0331,  7.0564,  ..., -1.4160, -1.4156, -1.4159],\n",
       "         [ 4.8485,  0.8645,  3.1329,  ..., -2.3551, -2.3548, -2.3551]]])"
      ]
     },
     "execution_count": 18,
     "metadata": {},
     "output_type": "execute_result"
    }
   ],
   "source": [
    "logits"
   ]
  },
  {
   "cell_type": "code",
   "execution_count": 19,
   "id": "7f7d28cb",
   "metadata": {},
   "outputs": [
    {
     "data": {
      "text/plain": [
       "tensor([[[7.6809e-04, 1.5819e-04, 1.0185e-06,  ..., 1.2710e-08,\n",
       "          1.2707e-08, 1.2712e-08],\n",
       "         [1.7020e-04, 1.0672e-08, 4.3472e-08,  ..., 3.1997e-09,\n",
       "          3.1985e-09, 3.1997e-09],\n",
       "         [3.7424e-01, 1.9943e-05, 7.0070e-06,  ..., 2.7302e-09,\n",
       "          2.7292e-09, 2.7300e-09],\n",
       "         ...,\n",
       "         [2.1800e-04, 3.1926e-04, 3.2493e-01,  ..., 1.3388e-09,\n",
       "          1.3385e-09, 1.3387e-09],\n",
       "         [3.1530e-04, 2.9232e-04, 9.1264e-02,  ..., 2.5184e-09,\n",
       "          2.5179e-09, 2.5184e-09],\n",
       "         [2.1285e-04, 4.9074e-04, 8.0499e-02,  ..., 2.8812e-09,\n",
       "          2.8805e-09, 2.8812e-09]],\n",
       "\n",
       "        [[4.9369e-06, 8.1810e-07, 2.0454e-07,  ..., 2.6410e-09,\n",
       "          2.6394e-09, 2.6413e-09],\n",
       "         [8.7292e-07, 3.3964e-08, 6.4612e-09,  ..., 6.7433e-10,\n",
       "          6.7450e-10, 6.7446e-10],\n",
       "         [1.6880e-05, 7.8760e-07, 2.6230e-08,  ..., 1.4182e-09,\n",
       "          1.4175e-09, 1.4183e-09],\n",
       "         ...,\n",
       "         [1.1690e-04, 7.9528e-04, 1.3755e-03,  ..., 6.6596e-10,\n",
       "          6.6578e-10, 6.6596e-10],\n",
       "         [7.0252e-04, 1.6582e-03, 3.7387e-03,  ..., 1.3116e-08,\n",
       "          1.3115e-08, 1.3115e-08],\n",
       "         [5.3338e-04, 8.1474e-04, 5.9352e-03,  ..., 5.6589e-09,\n",
       "          5.6583e-09, 5.6586e-09]],\n",
       "\n",
       "        [[1.2960e-05, 1.1867e-04, 2.0162e-06,  ..., 3.8913e-08,\n",
       "          3.8919e-08, 3.8912e-08],\n",
       "         [1.0119e-04, 2.3522e-04, 1.1267e-05,  ..., 1.8709e-08,\n",
       "          1.8718e-08, 1.8709e-08],\n",
       "         [2.0267e-06, 1.7888e-06, 3.8519e-08,  ..., 3.8277e-10,\n",
       "          3.8273e-10, 3.8276e-10],\n",
       "         ...,\n",
       "         [3.3804e-02, 8.9810e-06, 1.1131e-06,  ..., 1.6720e-10,\n",
       "          1.6720e-10, 1.6721e-10],\n",
       "         [3.3749e-07, 1.8631e-10, 1.5013e-08,  ..., 5.0108e-10,\n",
       "          5.0127e-10, 5.0107e-10],\n",
       "         [1.9690e-04, 1.1942e-03, 2.2390e-02,  ..., 6.9817e-10,\n",
       "          6.9799e-10, 6.9813e-10]],\n",
       "\n",
       "        [[4.2989e-06, 5.9639e-06, 2.4609e-07,  ..., 1.6100e-09,\n",
       "          1.6099e-09, 1.6103e-09],\n",
       "         [1.6523e-05, 3.2024e-06, 3.0320e-07,  ..., 8.9498e-11,\n",
       "          8.9499e-11, 8.9498e-11],\n",
       "         [5.4644e-04, 4.5121e-06, 1.7355e-06,  ..., 1.8447e-09,\n",
       "          1.8447e-09, 1.8447e-09],\n",
       "         ...,\n",
       "         [2.7571e-06, 1.2071e-05, 2.6367e-07,  ..., 1.1730e-10,\n",
       "          1.1734e-10, 1.1730e-10],\n",
       "         [1.3214e-03, 4.6983e-06, 2.3944e-07,  ..., 5.0079e-11,\n",
       "          5.0103e-11, 5.0084e-11],\n",
       "         [3.4740e-07, 6.4658e-09, 6.2485e-08,  ..., 2.5844e-10,\n",
       "          2.5852e-10, 2.5845e-10]]])"
      ]
     },
     "execution_count": 19,
     "metadata": {},
     "output_type": "execute_result"
    }
   ],
   "source": [
    "torch.softmax(logits, dim=-1)"
   ]
  },
  {
   "cell_type": "code",
   "execution_count": 22,
   "id": "a9e3e5bc",
   "metadata": {},
   "outputs": [
    {
     "data": {
      "text/plain": [
       "tensor([[[3.1165e-06]],\n",
       "\n",
       "        [[1.2550e-06]],\n",
       "\n",
       "        [[3.1799e-06]],\n",
       "\n",
       "        [[5.0264e-06]]])"
      ]
     },
     "execution_count": 22,
     "metadata": {},
     "output_type": "execute_result"
    }
   ],
   "source": [
    "torch.softmax(logits, dim=-1).gather(-1, input_ids[:,:1].unsqueeze(-1))"
   ]
  },
  {
   "cell_type": "code",
   "execution_count": 23,
   "id": "fc8279e4",
   "metadata": {},
   "outputs": [],
   "source": [
    "new_lp = torch.tensor([\n",
    "  [1,2,3],\n",
    "  [4,5,6],\n",
    "  [7,8,9],\n",
    "  [10,11,12]\n",
    "])"
   ]
  },
  {
   "cell_type": "code",
   "execution_count": null,
   "id": "a89d764b",
   "metadata": {},
   "outputs": [],
   "source": [
    "advantages = torch.tensor([1, 2, 3, 4])\n",
    "advantages[:, None].expand_as()"
   ]
  }
 ],
 "metadata": {
  "kernelspec": {
   "display_name": "dsenv",
   "language": "python",
   "name": "python3"
  },
  "language_info": {
   "codemirror_mode": {
    "name": "ipython",
    "version": 3
   },
   "file_extension": ".py",
   "mimetype": "text/x-python",
   "name": "python",
   "nbconvert_exporter": "python",
   "pygments_lexer": "ipython3",
   "version": "3.10.18"
  }
 },
 "nbformat": 4,
 "nbformat_minor": 5
}
